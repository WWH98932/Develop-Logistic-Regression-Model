{
 "cells": [
  {
   "cell_type": "markdown",
   "metadata": {},
   "source": [
    "## Logistic Regression Assignment\n",
    "\n",
    "© Rashed Iqbal <br>\n",
    "No part of this assignment could be used for any purposes other than for which it is intended (that is as an assignment workbook). <br>\n",
    "\n",
    "This assignment is based upon Logistic Regression slides discussed in the class during session: \n",
    "\n",
    "- Rename this iPython notebook to yourlastname_logitreg.ipynb\n",
    "- There are different sections in the assignment in this notebook where you will be writing code. Such places are indicated by block enclosed in START CODE HERE and END CODE HERE. In your submitted assignment, you will need to put your code ONLY in these blocks.\n",
    "- After each section, there are one or more cells that checks your code by executing a command. You should get the answer indicated. \n",
    "- Number of lines of codes are for guidelines. You may exeed the number specified."
   ]
  },
  {
   "cell_type": "code",
   "execution_count": 1,
   "metadata": {
    "collapsed": true
   },
   "outputs": [],
   "source": [
    "import numpy as np"
   ]
  },
  {
   "cell_type": "markdown",
   "metadata": {},
   "source": [
    "### Loss Function\n",
    "#### Assignment 1: \n",
    "Write a function called loss that takes two parameters *y* and *y<sup>^</sup>*\n",
    "Here y is the actual value and yhat is the prediction of the outcome\n",
    "\n",
    "The function returns the logistic loss -( (1-*y*)log(1-*y<sup>^</sup>*) + *y*log(*y<sup>^</sup>*))\n",
    "\n",
    "This function will return loss for a single training example. We will use this function to \n",
    "determine cost function while calling it for NumPy vectors. \n",
    "\n",
    "In the code, we will use y and yhat to represent *y* and *y<sup>^</sup>*"
   ]
  },
  {
   "cell_type": "code",
   "execution_count": 2,
   "metadata": {},
   "outputs": [
    {
     "data": {
      "text/plain": [
       "0.16251892949777494"
      ]
     },
     "execution_count": 2,
     "metadata": {},
     "output_type": "execute_result"
    }
   ],
   "source": [
    "# Import numpy\n",
    "import numpy as np\n",
    "import math\n",
    "def loss(y, yhat):\n",
    "### START CODE HERE ### (≈ 1-5 lines of code)\n",
    "    loss = -((1 - y) * np.log(1 - yhat) + y * np.log(yhat))\n",
    "    return(loss)\n",
    "### END CODE HERE ###\n",
    "loss(1, 0.85)"
   ]
  },
  {
   "cell_type": "code",
   "execution_count": 3,
   "metadata": {},
   "outputs": [
    {
     "name": "stdout",
     "output_type": "stream",
     "text": [
      "Loss for y = 1 and yhat = 0.85 is equal to: 0.16252\n"
     ]
    }
   ],
   "source": [
    "y = 1\n",
    "yhat = 0.85\n",
    "print(\"Loss for y = {} and yhat = {} is equal to: {:1.5f}\".format(y, yhat, loss(y, yhat)))"
   ]
  },
  {
   "cell_type": "markdown",
   "metadata": {},
   "source": [
    "#### Check Assignment 1: \n",
    "###### You should get the following result\n",
    "Loss for y = 1 and yhat = 0.85 is equal to: 0.16252"
   ]
  },
  {
   "cell_type": "markdown",
   "metadata": {},
   "source": [
    "### Activation Function\n",
    "In Logistic Regression we use Sigmoid activation function. \n",
    "#### Assignment 2: \n",
    "Write a function called activation() that takes *y<sup>^</sup>* and returns 1/(1+ *e<sup>-yhat</sup>*) "
   ]
  },
  {
   "cell_type": "code",
   "execution_count": 4,
   "metadata": {},
   "outputs": [
    {
     "data": {
      "text/plain": [
       "0.70056714247397289"
      ]
     },
     "execution_count": 4,
     "metadata": {},
     "output_type": "execute_result"
    }
   ],
   "source": [
    "def activation(yhat):    \n",
    "### START CODE HERE ### (≈ 1-5 lines of code)\n",
    "    result = 1 / (1 + np.exp(-yhat))\n",
    "    return result\n",
    "### END CODE HERE ###\n",
    "activation(0.85)"
   ]
  },
  {
   "cell_type": "code",
   "execution_count": 5,
   "metadata": {},
   "outputs": [
    {
     "data": {
      "image/png": "[encoded data removed]",
      "text/plain": [
       "<matplotlib.figure.Figure at 0x223fc4dba58>"
      ]
     },
     "metadata": {},
     "output_type": "display_data"
    }
   ],
   "source": [
    "z = np.array(np.arange(-10,10,0.1))\n",
    "zsig = activation(z)\n",
    "import matplotlib.pyplot as plt\n",
    "%matplotlib inline\n",
    "plt.plot(z, zsig)\n",
    "plt.show()\n",
    "#print(\"Output of Activation Function on Z:\", zsig)"
   ]
  },
  {
   "cell_type": "markdown",
   "metadata": {},
   "source": [
    "#### Check Assignment 2: \n",
    "###### Your graph should be similar to the one below \n",
    "<img src=\"sigmoid.png\" style=\"float:left;\">"
   ]
  },
  {
   "cell_type": "markdown",
   "metadata": {},
   "source": [
    "### Input Data \n",
    "\n",
    "#### Assignment 3: \n",
    "In this assignment you will prepare input data. You will create a feature matrix X of shape (4, 3). Note that these are three training examples for four features \n",
    "\n",
    "1 &nbsp; &nbsp; &nbsp; 2 &nbsp; &nbsp; &nbsp; 1<br>\n",
    "1 &nbsp; &nbsp; &nbsp; 1 &nbsp; &nbsp; &nbsp; 0<br>\n",
    "1 &nbsp; &nbsp; &nbsp; 2 &nbsp; &nbsp; &nbsp; 1<br>\n",
    "1 &nbsp; &nbsp; &nbsp; 0 &nbsp; &nbsp; &nbsp; 2<br>\n",
    "\n",
    "Next you will create an outcome vector Y of shape (1, 4): <br>\n",
    "[ 0 &nbsp; &nbsp; &nbsp; 1 &nbsp; &nbsp; &nbsp; 0 ]\n",
    "\n",
    "- Both of the above will be numpy arrays. Make sure your shapes are correct.\n",
    "- Variables number of training examples *m* and number of features *n* are defined below. Use them in your code.\n"
   ]
  },
  {
   "cell_type": "code",
   "execution_count": 6,
   "metadata": {
    "collapsed": true
   },
   "outputs": [],
   "source": [
    "# Inputs\n",
    "# training examples\n",
    "m = 3\n",
    "# number of features\n",
    "n = 4\n",
    "\n",
    "### START CODE HERE ### (≈ 2-5 lines of code)\n",
    "# This is the feature matrix X where n features of each of m training \n",
    "# examples are stacked vertically (n x m).\n",
    "\n",
    "# Solution 1\n",
    "X = np.zeros((n,m), dtype=int)\n",
    "X[0] = [1, 2, 1]\n",
    "X[1] = [1, 1, 0]\n",
    "X[2] = [1, 2, 1]\n",
    "X[3] = [1, 0, 2]\n",
    "\n",
    "# Solution 2\n",
    "X = np.array([1, 2, 1, 1, 1, 0, 1, 2, 1, 1, 0, 2]).reshape(n, m)\n",
    "\n",
    "# This is the outcome (or dependent variable) Y. Note that shape of \n",
    "# this matrix is (1 x m)\n",
    "\n",
    "# Solution 1\n",
    "Y = np.zeros((1,m), dtype=int)\n",
    "Y[0] = [0, 1, 0]\n",
    "\n",
    "# Solution 2\n",
    "Y = np.array([0, 1, 0]).reshape(1, m)\n",
    "\n",
    "### END CODE HERE ###"
   ]
  },
  {
   "cell_type": "code",
   "execution_count": 7,
   "metadata": {},
   "outputs": [
    {
     "name": "stdout",
     "output_type": "stream",
     "text": [
      "X=\n",
      " [[1 2 1]\n",
      " [1 1 0]\n",
      " [1 2 1]\n",
      " [1 0 2]]\n",
      "\n",
      "Y=\n",
      " [[0 1 0]]\n"
     ]
    }
   ],
   "source": [
    "print(\"X=\\n\", X)\n",
    "print(\"\\nY=\\n\", Y)"
   ]
  },
  {
   "cell_type": "markdown",
   "metadata": {},
   "source": [
    "#### Check Assignment 3: \n",
    "###### Your output should be:\n",
    "\n",
    "X= <br>\n",
    " [[1&nbsp; &nbsp;2&nbsp; &nbsp;1] <br>\n",
    " [1&nbsp; &nbsp;1&nbsp; &nbsp;0] <br>\n",
    " [1&nbsp; &nbsp;2&nbsp; &nbsp;1] <br>\n",
    " [1&nbsp; &nbsp;0&nbsp; &nbsp;2]]\n",
    "\n",
    "Y=\n",
    " [[0&nbsp; &nbsp;1&nbsp; &nbsp;0]]\n"
   ]
  },
  {
   "cell_type": "markdown",
   "metadata": {},
   "source": [
    "### Initialization  \n",
    "\n",
    "#### Assignment 4: \n",
    "In this assignment, you will:\n",
    "- create and initialize W and b to ones. Here, W is the (1,n) shape weight vector and b is the scalar bias.  \n",
    "- create and initialize J and Yhat to zeros. J is cost function vector of size (1,h) that will hold cost function for each iteration. Yhat is the (1,m) vector to hold prediction for all training examples. \n",
    "- Note that number of iterations h and the learning rate alpha have been initialized for you. \n"
   ]
  },
  {
   "cell_type": "code",
   "execution_count": 8,
   "metadata": {
    "collapsed": true
   },
   "outputs": [],
   "source": [
    "#Iterations\n",
    "h = 100000\n",
    "alpha = 0.05\n",
    "\n",
    "### START CODE HERE ### (≈ 2-5 lines of code)\n",
    "# Model Parameters\n",
    "b = 1\n",
    "W = np.zeros([1, n])\n",
    " \n",
    "# Initialization of J and Yhat\n",
    "J = np.zeros([1, h])\n",
    "Yhat = np.zeros([1, m])\n",
    "\n",
    "### END CODE HERE ###\n"
   ]
  },
  {
   "cell_type": "code",
   "execution_count": 9,
   "metadata": {},
   "outputs": [
    {
     "name": "stdout",
     "output_type": "stream",
     "text": [
      "Shape of W: (1, 4)\n",
      "Shape of J: (1, 100000)\n",
      "Sum of all elements of W: 0.0\n",
      "Sum of all elements of J: 0.0\n"
     ]
    }
   ],
   "source": [
    "print(\"Shape of W:\", W.shape)\n",
    "print(\"Shape of J:\", J.shape)\n",
    "print(\"Sum of all elements of W:\", np.sum(W))\n",
    "print(\"Sum of all elements of J:\", np.sum(J))"
   ]
  },
  {
   "cell_type": "markdown",
   "metadata": {},
   "source": [
    "#### Check Assignment 4: \n",
    "###### You should get the following results\n",
    "Shape of W: (1, 4) <br>\n",
    "Shape of J: (1, 100000) <br>\n",
    "Sum of all elements of W: 0.0 <br>\n",
    "Sum of all elements of J: 0.0 <br>"
   ]
  },
  {
   "cell_type": "markdown",
   "metadata": {},
   "source": [
    "### Implementation of Logistic Regression Using Loops\n",
    "In this assignment you will use loops to implement Logistics. Your implementation may vary but below is a possible list of loops:\n",
    "\n",
    "- There will be an outer most loop for iterations of Gradient Descent.\n",
    "- There will be a second loop for determining predictions and cost function over \n",
    "- There will be multiple innner loops for summing over weights \n",
    "\n",
    "#### Assignment 5: \n",
    "Implement Logistic Regression/Gradient Descent using loops.  "
   ]
  },
  {
   "cell_type": "code",
   "execution_count": 10,
   "metadata": {
    "collapsed": true
   },
   "outputs": [],
   "source": [
    "for j in range(h):\n",
    "### START CODE HERE ### (≈ 20-30 lines of code)\n",
    "    dJdb = 0\n",
    "    dJdW = np.zeros([1, n])\n",
    "    dY = np.zeros([1, m])\n",
    "    for k in range(n):\n",
    "        dJdW[0, k] = 0\n",
    "    for i in range(m):\n",
    "        Yhat[0, i] = 0\n",
    "        for k in range(n):\n",
    "            Yhat[0, i] = Yhat[0, i] + W[0, k] * X[k, i]\n",
    "        Yhat[0, i] = Yhat[0, i] + b\n",
    "        Yhat[0, i] = 1 / (1 + np.exp(-Yhat[0, i]))\n",
    "        J[0, j] = J[0, j] + (Y[0, i] * np.log(Yhat[0, i]) + (1 - Y[0, i]) * np.log(1 - Yhat[0, i]))\n",
    "        dY[0, i] = Yhat[0, i] - Y[0, i]\n",
    "        dJdb = dJdb + dY[0, i]\n",
    "        for k in range(n):\n",
    "            dJdW[0, k] = dJdW[0, k] + dY[0, i] * X[k, i]\n",
    "    dJdb = dJdb / m\n",
    "    for k in range(n):\n",
    "        dJdW[0, k] = dJdW[0, k] / m\n",
    "    J[0, j] = -J[0, j] / m\n",
    "    b = b - alpha * dJdb\n",
    "    for k in range(n):\n",
    "        W[0, k] = W[0, k] - alpha * dJdW[0, k] \n",
    "### END CODE HERE ###"
   ]
  },
  {
   "cell_type": "code",
   "execution_count": 11,
   "metadata": {},
   "outputs": [
    {
     "name": "stdout",
     "output_type": "stream",
     "text": [
      "Jcost = 0.00038577170351032734\n",
      "b = -1.794089512132135\n",
      "W =  [[ 2.89098637 -2.11039808  2.89098637 -9.16285683]]\n"
     ]
    }
   ],
   "source": [
    "print(\"Jcost = {}\".format(J[0,h-1]))\n",
    "print(\"b = {}\".format(b))\n",
    "print(\"W = \", W)"
   ]
  },
  {
   "cell_type": "markdown",
   "metadata": {},
   "source": [
    "#### Check Assignment 4 (first check): \n",
    "###### You should get the following results\n",
    "\n",
    "Jcost = 0.00038577170351032734 <br>\n",
    "b = -1.794089512132135 <br>\n",
    "W =  [[ 2.89098637 &nbsp; -2.11039808 &nbsp; 2.89098637 &nbsp; -9.16285683]]"
   ]
  },
  {
   "cell_type": "code",
   "execution_count": 12,
   "metadata": {},
   "outputs": [
    {
     "data": {
      "image/png": "[encoded data removed]",
      "text/plain": [
       "<matplotlib.figure.Figure at 0x223fcbc2c50>"
      ]
     },
     "metadata": {},
     "output_type": "display_data"
    }
   ],
   "source": [
    "import matplotlib.pyplot as plt\n",
    "%matplotlib inline\n",
    "plt.plot(J[0,])\n",
    "plt.show()"
   ]
  },
  {
   "cell_type": "markdown",
   "metadata": {},
   "source": [
    "#### Check Assignment 4 (second check): \n",
    "###### Your graph should be similar to the one below \n",
    "<img src=\"costfunc.png\" style=\"float:left\" height=\"200\" width=\"400\";>"
   ]
  },
  {
   "cell_type": "markdown",
   "metadata": {},
   "source": [
    "### Implementation of Logistic Regression Using Linear Algebra (Matrix Operations)\n",
    "In this assignment you will use linear algebra to implement Logistics. Your implementation \n",
    "may vary but below is a possible list:\n",
    "\n",
    "- There will be an outer most loop for iterations of Gradient Descent as the case with implementation using loops. This will be the ONLY loop in this implmentation.\n",
    "- Use matrix operations to implement the remaining operations.\n",
    "\n",
    "#### Assignment 6: \n",
    "Implement Logistic Regression/Gradient Descent using Linear Algebra.  "
   ]
  },
  {
   "cell_type": "markdown",
   "metadata": {},
   "source": [
    "##### Initialization: \n",
    "Use the same code block from Assignment 4 below.  "
   ]
  },
  {
   "cell_type": "code",
   "execution_count": 13,
   "metadata": {
    "collapsed": true
   },
   "outputs": [],
   "source": [
    "#Iterations\n",
    "h = 100000\n",
    "alpha = 0.05\n",
    "\n",
    "### START CODE HERE ### (≈ 2-5 lines of code)\n",
    "# Model Parameters\n",
    "b = 1\n",
    "W = np.zeros([1, n])\n",
    "\n",
    "# Initialization of J and Yhat\n",
    "J = np.zeros([1, h])\n",
    "Yhat = np.zeros([1, m])\n",
    "\n",
    "### END CODE HERE ###"
   ]
  },
  {
   "cell_type": "markdown",
   "metadata": {},
   "source": [
    "##### Logistic Regression using Linear Algebra: "
   ]
  },
  {
   "cell_type": "code",
   "execution_count": 14,
   "metadata": {
    "collapsed": true
   },
   "outputs": [],
   "source": [
    "for g in range(h):\n",
    "### START CODE HERE ### (≈ 4-10 lines of code)\n",
    "    dJdz = np.zeros([1, m])\n",
    "    dJdw = np.zeros([1, n])\n",
    "    B = np.ones([1, m])\n",
    "    Yhat = 1 / (1 + np.exp(-(np.dot(W, X) + b * B)))\n",
    "    J[0, g] = (-1 / m) * np.sum((Y * np.log(Yhat)) + (1 - Y) * np.log(1 - Yhat))\n",
    "    dJdz = Y - Yhat\n",
    "    dJdb = (-1 / m) * np.sum(dJdz)\n",
    "    dJdw = (-1 / m) * np.dot(dJdz, X.T)\n",
    "    b = b - alpha * dJdb\n",
    "    W = W - alpha * dJdw\n",
    "### END CODE HERE ###"
   ]
  },
  {
   "cell_type": "code",
   "execution_count": 15,
   "metadata": {
    "scrolled": true
   },
   "outputs": [
    {
     "name": "stdout",
     "output_type": "stream",
     "text": [
      "Jcost = 0.00038577170351032734\n",
      "b = -1.7940895121321347\n",
      "W =  [[ 2.89098637 -2.11039808  2.89098637 -9.16285683]]\n"
     ]
    }
   ],
   "source": [
    "print(\"Jcost = {}\".format(J[0,h-1]))\n",
    "print(\"b = {}\".format(b))\n",
    "print(\"W = \", W)"
   ]
  },
  {
   "cell_type": "markdown",
   "metadata": {},
   "source": [
    "#### Check Assignment 6: \n",
    "###### You should get the following results\n",
    "\n",
    "Jcost = 0.00038577170351032734 <br>\n",
    "b = -1.794089512132135 <br>\n",
    "W =  [[ 2.89098637 &nbsp; -2.11039808 &nbsp; 2.89098637 &nbsp; -9.16285683]]"
   ]
  }
 ],
 "metadata": {
  "anaconda-cloud": {},
  "kernelspec": {
   "display_name": "Python 3",
   "language": "python",
   "name": "python3"
  },
  "language_info": {
   "codemirror_mode": {
    "name": "ipython",
    "version": 3
   },
   "file_extension": ".py",
   "mimetype": "text/x-python",
   "name": "python",
   "nbconvert_exporter": "python",
   "pygments_lexer": "ipython3",
   "version": "3.6.3"
  }
 },
 "nbformat": 4,
 "nbformat_minor": 2
}
