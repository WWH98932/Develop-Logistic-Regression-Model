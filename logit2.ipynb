{
 "cells": [
  {
   "cell_type": "code",
   "execution_count": 1,
   "metadata": {},
   "outputs": [
    {
     "name": "stdout",
     "output_type": "stream",
     "text": [
      "[[ 0.  0.  0.  0.  0.  0.  0.  0.  0.  0.  0.  0.  0.  0.  0.  0.  0.  0.\n",
      "   0.  0.  0.  0.  0.  0.  0.  0.  0.  0.  0.  0.  0.  0.  0.  0.  0.  0.\n",
      "   0.  0.  0.  0.  1.  1.  1.  1.  1.  1.  1.  1.  1.  1.  1.  1.  1.  1.\n",
      "   1.  1.  1.  1.  1.  1.  1.  1.  1.  1.  1.  1.  1.  1.  1.  1.  1.  1.\n",
      "   1.  1.  1.  1.  1.  1.  1.  1.]]\n",
      "[[ 0.  0.  0.  0.  0.  0.  0.  0.  0.  0.  0.  0.  0.  0.  0.  0.  0.  0.\n",
      "   0.  0.  0.  0.  0.  0.  0.  0.  0.  0.  0.  0.  0.  0.  0.  0.  0.  0.\n",
      "   0.  0.  0.  0.  1.  1.  1.  1.  1.  1.  1.  1.  1.  1.  1.  1.  1.  1.\n",
      "   1.  1.  1.  1.  1.  1.  1.  1.  1.  1.  1.  1.  1.  1.  1.  1.  1.  1.\n",
      "   1.  1.  1.  1.  1.  1.  1.  1.]]\n",
      "Jcost = 0.00023614634211970533\n"
     ]
    }
   ],
   "source": [
    "import numpy as np\n",
    "\n",
    "# Convert train and test file into numpy matrix\n",
    "train = np.loadtxt(\"iristrain-1.csv\", delimiter=\",\", skiprows=1)\n",
    "Xtrain = train[:,0:4].T\n",
    "Ytrain = train[:,4:].T\n",
    "\n",
    "test = np.loadtxt(\"iristest-1.csv\",delimiter=\",\",skiprows=1)\n",
    "Xtest = test[:,0:4].T \n",
    "Ytest = test[:,4:].T\n",
    "\n",
    "#Iterations\n",
    "h = 100000\n",
    "alpha = 0.05\n",
    "n = 4\n",
    "m = 80\n",
    "\n",
    "# Model Parameters\n",
    "b = 1\n",
    "W = np.zeros([1, n])\n",
    "\n",
    "# Initialization of J and Yhat\n",
    "J = np.zeros([1, h])\n",
    "Yhat = np.zeros([1, m])\n",
    "\n",
    "\n",
    "for g in range(h):\n",
    "    dJdz = np.zeros([1, m])\n",
    "    dJdw = np.zeros([1, n])\n",
    "    B = np.ones([1, m])\n",
    "    Yhat = 1 / (1 + np.exp(-(np.dot(W, Xtrain) + b * B)))\n",
    "    J[0, g] = (-1 / m) * np.sum((Ytrain * np.log(Yhat)) + (1 - Ytrain) * np.log(1 - Yhat))\n",
    "    dJdz = Ytrain - Yhat\n",
    "    dJdb = (-1 / m) * np.sum(dJdz)\n",
    "    dJdw = (-1 / m) * np.dot(dJdz, Xtrain.T)\n",
    "    b = b - alpha * dJdb\n",
    "    W = W - alpha * dJdw\n",
    "    for i in range(80):\n",
    "        if Yhat[0, i] > 0.5:\n",
    "            Yhat[0, i] = 1\n",
    "        else:\n",
    "            Yhat[0, i] = 0\n",
    "\n",
    "print(Yhat)\n",
    "print(Ytrain)\n",
    "print(\"Jcost = {}\".format(J[0,h-1]))"
   ]
  },
  {
   "cell_type": "code",
   "execution_count": 34,
   "metadata": {},
   "outputs": [
    {
     "name": "stdout",
     "output_type": "stream",
     "text": [
      "[[ 0.  0.  0.  0.  0.  0.  0.  0.  0.  0.  1.  1.  1.  1.  1.  1.  1.  1.\n",
      "   1.  1.]]\n",
      "[[ 0.  0.  0.  0.  0.  0.  0.  0.  0.  0.  1.  1.  1.  1.  1.  1.  1.  1.\n",
      "   1.  1.]]\n"
     ]
    }
   ],
   "source": [
    "# For test set\n",
    "# Initialization of m and Yhat\n",
    "m = 20\n",
    "Yhat = np.zeros([1, m])\n",
    "\n",
    "for g in range(h):\n",
    "    dJdz = np.zeros([1, m])\n",
    "    dJdw = np.zeros([1, n])\n",
    "    B = np.ones([1, m])\n",
    "    Yhat = 1 / (1 + np.exp(-(np.dot(W, Xtest) + b * B)))\n",
    "    J[0, g] = (-1 / m) * np.sum((Ytest * np.log(Yhat)) + (1 - Ytest) * np.log(1 - Yhat))\n",
    "    dJdz = Ytest - Yhat\n",
    "    dJdb = (-1 / m) * np.sum(dJdz)\n",
    "    dJdw = (-1 / m) * np.dot(dJdz, Xtest.T)\n",
    "    b = b - alpha * dJdb\n",
    "    W = W - alpha * dJdw\n",
    "    for i in range(20):\n",
    "        if Yhat[0, i] > 0.5:\n",
    "            Yhat[0, i] = 1\n",
    "        else:\n",
    "            Yhat[0, i] = 0\n",
    "\n",
    "print(Yhat)\n",
    "print(Ytest)"
   ]
  },
  {
   "cell_type": "markdown",
   "metadata": {},
   "source": [
    "# 100% Accuracy!"
   ]
  }
 ],
 "metadata": {
  "kernelspec": {
   "display_name": "Python 3",
   "language": "python",
   "name": "python3"
  },
  "language_info": {
   "codemirror_mode": {
    "name": "ipython",
    "version": 3
   },
   "file_extension": ".py",
   "mimetype": "text/x-python",
   "name": "python",
   "nbconvert_exporter": "python",
   "pygments_lexer": "ipython3",
   "version": "3.6.3"
  }
 },
 "nbformat": 4,
 "nbformat_minor": 2
}
