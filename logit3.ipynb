{
 "cells": [
  {
   "cell_type": "code",
   "execution_count": 34,
   "metadata": {},
   "outputs": [
    {
     "name": "stdout",
     "output_type": "stream",
     "text": [
      "Time: 8.829080\n"
     ]
    }
   ],
   "source": [
    "import numpy as np\n",
    "import time as tm\n",
    "\n",
    "# Preparation\n",
    "m = 3\n",
    "n = 4\n",
    "X = np.array([1, 2, 1, 1, 1, 0, 1, 2, 1, 1, 0, 2]).reshape(n, m)\n",
    "Y = np.array([0, 1, 0]).reshape(1, m)\n",
    "h = 100000\n",
    "alpha = 0.05\n",
    "b = 1\n",
    "W = np.zeros([1, n])\n",
    "J = np.zeros([1, h])\n",
    "Yhat = np.zeros([1, m])\n",
    "# Time\n",
    "ti = tm.time()\n",
    "\n",
    "# Computation\n",
    "for j in range(h):\n",
    "### START CODE HERE ### (≈ 20-30 lines of code)\n",
    "    J = np.zeros([1, h])\n",
    "    dJdb = 0\n",
    "    dJdW = np.zeros([1, n])\n",
    "    dY = np.zeros([1, m])\n",
    "    for k in range(n):\n",
    "        dJdW[0, k] = 0\n",
    "    for i in range(m):\n",
    "        Yhat[0, i] = 0\n",
    "        for k in range(n):\n",
    "            Yhat[0, i] = Yhat[0, i] + W[0, k] * X[k, i]\n",
    "        Yhat[0, i] = Yhat[0, i] + b\n",
    "        Yhat[0, i] = 1 / (1 + np.exp(-Yhat[0, i]))\n",
    "        J[0, j] = J[0, j] + (Y[0, i] * np.log(Yhat[0, i]) + (1 - Y[0, i]) * np.log(1 - Yhat[0, i]))\n",
    "        dY[0, i] = Yhat[0, i] - Y[0, i]\n",
    "        dJdb = dJdb + dY[0, i]\n",
    "        for k in range(n):\n",
    "            dJdW[0, k] = dJdW[0, k] + dY[0, i] * X[k, i]\n",
    "    dJdb = dJdb / m\n",
    "    for k in range(n):\n",
    "        dJdW[0, k] = dJdW[0, k] / m\n",
    "    J[0, j] = -J[0, j] / m\n",
    "    b = b - alpha * dJdb\n",
    "    for k in range(n):\n",
    "        W[0, k] = W[0, k] - alpha * dJdW[0, k]\n",
    "# Time\n",
    "tf = tm.time()\n",
    "\n",
    "tloop = tf - ti\n",
    "print(\"Time: {:06.6f}\".format(tloop))"
   ]
  },
  {
   "cell_type": "code",
   "execution_count": 35,
   "metadata": {},
   "outputs": [
    {
     "name": "stdout",
     "output_type": "stream",
     "text": [
      "Time: 9.141624\n"
     ]
    }
   ],
   "source": [
    "# Preparation\n",
    "m = 3\n",
    "n = 4\n",
    "X = np.array([1, 2, 1, 1, 1, 0, 1, 2, 1, 1, 0, 2]).reshape(n, m)\n",
    "Y = np.array([0, 1, 0]).reshape(1, m)\n",
    "h = 100000\n",
    "alpha = 0.05\n",
    "b = 1\n",
    "W = np.zeros([1, n])\n",
    "J = np.zeros([1, h])\n",
    "Yhat = np.zeros([1, m])\n",
    "# Time\n",
    "ti = tm.time()\n",
    "\n",
    "# Computation\n",
    "for j in range(h):\n",
    "    J = np.zeros([1, h])\n",
    "    dJdb = 0\n",
    "    dJdW = np.zeros([1, n])\n",
    "    dY = np.zeros([1, m])\n",
    "    for k in range(n):\n",
    "        dJdW[0, k] = 0\n",
    "    for i in range(m):\n",
    "        Yhat[0, i] = 0\n",
    "        for k in range(n):\n",
    "            Yhat[0, i] = Yhat[0, i] + W[0, k] * X[k, i]\n",
    "        Yhat[0, i] = Yhat[0, i] + b\n",
    "        Yhat[0, i] = 1 / (1 + np.exp(-Yhat[0, i]))\n",
    "        J[0, j] = J[0, j] + (Y[0, i] * np.log(Yhat[0, i]) + (1 - Y[0, i]) * np.log(1 - Yhat[0, i]))\n",
    "        dY[0, i] = Yhat[0, i] - Y[0, i]\n",
    "        dJdb = dJdb + dY[0, i]\n",
    "        for k in range(n):\n",
    "            dJdW[0, k] = dJdW[0, k] + dY[0, i] * X[k, i]\n",
    "    dJdb = dJdb / m\n",
    "    for k in range(n):\n",
    "        dJdW[0, k] = dJdW[0, k] / m\n",
    "    J[0, j] = -J[0, j] / m\n",
    "    b = b - alpha * dJdb\n",
    "    for k in range(n):\n",
    "        W[0, k] = W[0, k] - alpha * dJdW[0, k]\n",
    "        \n",
    "# Time\n",
    "tf = tm.time()\n",
    "\n",
    "tvec = tf - ti\n",
    "print(\"Time: {:06.6f}\".format(tvec))"
   ]
  },
  {
   "cell_type": "code",
   "execution_count": 36,
   "metadata": {},
   "outputs": [
    {
     "name": "stdout",
     "output_type": "stream",
     "text": [
      "Ratio: 000.97\n",
      "Therefore, a 24 hour run completed with loops will take 89458.51 seconds in the vector form using numpy\n"
     ]
    }
   ],
   "source": [
    "ratio = tloop/tvec\n",
    "\n",
    "print(\"Ratio: {:06.2f}\".format(ratio))\n",
    "hours = 24\n",
    "print(\"Therefore, a {} hour run completed with loops will take {:3.2f} seconds in the vector form using numpy\".format(hours, hours*60*60/ratio))"
   ]
  }
 ],
 "metadata": {
  "kernelspec": {
   "display_name": "Python 3",
   "language": "python",
   "name": "python3"
  },
  "language_info": {
   "codemirror_mode": {
    "name": "ipython",
    "version": 3
   },
   "file_extension": ".py",
   "mimetype": "text/x-python",
   "name": "python",
   "nbconvert_exporter": "python",
   "pygments_lexer": "ipython3",
   "version": "3.6.3"
  }
 },
 "nbformat": 4,
 "nbformat_minor": 2
}
